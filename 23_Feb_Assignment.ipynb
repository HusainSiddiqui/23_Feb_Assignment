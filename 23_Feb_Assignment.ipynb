{
 "cells": [
  {
   "cell_type": "markdown",
   "metadata": {},
   "source": [
    "**Q1. Create a Pandas Series that contains the following data: 4, 8, 15, 16, 23, and 42. Then, print the series.**"
   ]
  },
  {
   "cell_type": "code",
   "execution_count": 28,
   "metadata": {},
   "outputs": [
    {
     "name": "stdout",
     "output_type": "stream",
     "text": [
      "<class 'pandas.core.series.Series'>\n",
      "0     4\n",
      "1     8\n",
      "2    15\n",
      "3    16\n",
      "4    23\n",
      "5    42\n",
      "dtype: int64\n"
     ]
    }
   ],
   "source": [
    "s=pd.Series([4, 8, 15, 16, 23,42])\n",
    "print(type(s))\n",
    "print(s)"
   ]
  },
  {
   "cell_type": "markdown",
   "metadata": {},
   "source": [
    "**Q2. Create a variable of list type containing 10 elements in it, and apply pandas.Series function on the\n",
    "variable print it.**"
   ]
  },
  {
   "cell_type": "code",
   "execution_count": 29,
   "metadata": {},
   "outputs": [
    {
     "name": "stdout",
     "output_type": "stream",
     "text": [
      "<class 'pandas.core.series.Series'>\n",
      "0    (0, 1, 2, 3, 4, 5, 6, 7, 8, 9)\n",
      "dtype: object\n"
     ]
    }
   ],
   "source": [
    "s=pd.Series([range(10)])\n",
    "print(type(s))\n",
    "print(s)"
   ]
  },
  {
   "cell_type": "code",
   "execution_count": 15,
   "metadata": {},
   "outputs": [
    {
     "name": "stdout",
     "output_type": "stream",
     "text": [
      "Q3. Create a Pandas DataFrame that contains the following data:\n",
      "\n",
      "                Name                  Age               Gender\n",
      "               Alice                   25               Female\n",
      "                 Bob                   30                 Male\n",
      "              Claire                   27               Female \n",
      "\n",
      "Then, print the DataFrame.\n"
     ]
    }
   ],
   "source": [
    "print(\"Q3. Create a Pandas DataFrame that contains the following data:\\n\")\n",
    "print(\"Name\".rjust(20),\"Age\".rjust(20),\"Gender\".rjust(20))\n",
    "print(\"Alice\".rjust(20),\"25\".rjust(20),\"Female\".rjust(20))\n",
    "print(\"Bob\".rjust(20),\"30\".rjust(20),\"Male\".rjust(20))\n",
    "print(\"Claire\".rjust(20),\"27\".rjust(20),\"Female\".rjust(20),'\\n')\n",
    "print(\"Then, print the DataFrame.\")"
   ]
  },
  {
   "cell_type": "code",
   "execution_count": 30,
   "metadata": {},
   "outputs": [
    {
     "name": "stdout",
     "output_type": "stream",
     "text": [
      "     Name  Age  Gender\n",
      "0   Alice   25  Female\n",
      "1     Bob   30    Male\n",
      "2  Claire   27  Female\n"
     ]
    }
   ],
   "source": [
    "import pandas as pd\n",
    "data={'Name':['Alice','Bob','Claire'],\n",
    "     'Age':[25,30,27],\n",
    "     'Gender':['Female','Male','Female']}\n",
    "df=pd.DataFrame(data=data)\n",
    "print(df)"
   ]
  },
  {
   "cell_type": "markdown",
   "metadata": {},
   "source": [
    "**Q4. What is ‘DataFrame’ in pandas and how is it different from pandas.series? Explain with an example.**"
   ]
  },
  {
   "cell_type": "markdown",
   "metadata": {},
   "source": [
    "In Pandas, a DataFrame is a two-dimensional table-like data structure that is used to represent and manipulate data in a tabular format. It consists of rows and columns, where each column can have a different data type\n",
    "\n",
    "In pandas Series is a one-dimensional labeled array that can hold data of any type, including integer, float, string, and Boolean values. A Series is similar to a column in a DataFrame, but it can also be used independently of a DataFrame.\n",
    "\n",
    "Example:"
   ]
  },
  {
   "cell_type": "code",
   "execution_count": 39,
   "metadata": {},
   "outputs": [
    {
     "name": "stdout",
     "output_type": "stream",
     "text": [
      "      name  age gender\n",
      "0    Alice   25      F\n",
      "1      Bob   30      M\n",
      "2  Charlie   35      M\n",
      "3    David   40      M\n",
      "\n",
      "Type of data: <class 'pandas.core.frame.DataFrame'>\n"
     ]
    }
   ],
   "source": [
    "import pandas as pd\n",
    "\n",
    "# create a DataFrame\n",
    "data = {'name': ['Alice', 'Bob', 'Charlie', 'David'],\n",
    "        'age': [25, 30, 35, 40],\n",
    "        'gender': ['F', 'M', 'M', 'M']}\n",
    "df = pd.DataFrame(data)\n",
    "\n",
    "# print the DataFrame\n",
    "print(df)\n",
    "print('\\nType of data:',type(df))"
   ]
  },
  {
   "cell_type": "code",
   "execution_count": 40,
   "metadata": {},
   "outputs": [
    {
     "name": "stdout",
     "output_type": "stream",
     "text": [
      "0    25\n",
      "1    30\n",
      "2    35\n",
      "3    40\n",
      "Name: age, dtype: int64\n",
      "\n",
      "Type of data: <class 'pandas.core.series.Series'>\n"
     ]
    }
   ],
   "source": [
    "# access a column in the DataFrame as a Series\n",
    "ages = df['age']\n",
    "print(ages)\n",
    "print('\\nType of data:',type(ages))"
   ]
  },
  {
   "cell_type": "markdown",
   "metadata": {},
   "source": [
    "**Q5. What are some common functions you can use to manipulate data in a Pandas DataFrame? Can\n",
    "you give an example of when you might use one of these functions?**"
   ]
  },
  {
   "cell_type": "markdown",
   "metadata": {},
   "source": [
    "There are many functions and methods in Pandas that can be used to manipulate data in a DataFrame. Here are some of the most common functions and methods:\n",
    "\n",
    "    head() and tail(): These methods can be used to view the top and bottom rows of a DataFrame, respectively. They are useful for quickly inspecting the structure and contents of a DataFrame.\n",
    "\n",
    "    describe(): This method generates descriptive statistics for each column of a DataFrame, including the count, mean, standard deviation, minimum, maximum, and quartile values. It provides a quick summary of the data in a DataFrame.\n",
    "\n",
    "    info(): This method prints a concise summary of a DataFrame, including the number of non-null values and the data type of each column. It is useful for checking the completeness and correctness of a DataFrame.\n",
    "\n",
    "    loc[] and iloc[]: These methods are used to index and select specific rows and columns of a DataFrame. loc[] is used for label-based indexing, while iloc[] is used for integer-based indexing.\n",
    "\n",
    "    groupby(): This method is used to group rows of a DataFrame based on one or more columns, and to perform aggregate functions on each group. It is useful for summarizing and analyzing data by different categories.\n",
    "\n",
    "    apply(): This method applies a function to each element or column of a DataFrame. It is useful for performing custom data transformations and cleaning operations.\n",
    "\n",
    "    merge(): This function is used to join two or more DataFrames based on a common column or index. It is useful for combining data from different sources and for performing complex data analyses."
   ]
  },
  {
   "cell_type": "code",
   "execution_count": 81,
   "metadata": {},
   "outputs": [
    {
     "name": "stdout",
     "output_type": "stream",
     "text": [
      "      name  age  salary\n",
      "0    Alice   25   50000\n",
      "1      Bob   32   60000\n",
      "2  Charlie   45   75000\n",
      "3    David   28   40000\n"
     ]
    }
   ],
   "source": [
    "import pandas as pd\n",
    "\n",
    "data = {\n",
    "    'name': ['Alice', 'Bob', 'Charlie', 'David'],\n",
    "    'age': [25, 32, 45, 28],\n",
    "    'salary': [50000, 60000, 75000, 40000]\n",
    "    }\n",
    "\n",
    "df = pd.DataFrame(data)\n",
    "print(df)"
   ]
  },
  {
   "cell_type": "code",
   "execution_count": 95,
   "metadata": {},
   "outputs": [],
   "source": [
    "def calculate_new_salary(s):\n",
    "    return s['salary'] + s['age']*2"
   ]
  },
  {
   "cell_type": "code",
   "execution_count": 96,
   "metadata": {},
   "outputs": [
    {
     "data": {
      "text/html": [
       "<div>\n",
       "<style scoped>\n",
       "    .dataframe tbody tr th:only-of-type {\n",
       "        vertical-align: middle;\n",
       "    }\n",
       "\n",
       "    .dataframe tbody tr th {\n",
       "        vertical-align: top;\n",
       "    }\n",
       "\n",
       "    .dataframe thead th {\n",
       "        text-align: right;\n",
       "    }\n",
       "</style>\n",
       "<table border=\"1\" class=\"dataframe\">\n",
       "  <thead>\n",
       "    <tr style=\"text-align: right;\">\n",
       "      <th></th>\n",
       "      <th>age</th>\n",
       "      <th>salary</th>\n",
       "    </tr>\n",
       "  </thead>\n",
       "  <tbody>\n",
       "    <tr>\n",
       "      <th>0</th>\n",
       "      <td>25</td>\n",
       "      <td>50000</td>\n",
       "    </tr>\n",
       "    <tr>\n",
       "      <th>1</th>\n",
       "      <td>32</td>\n",
       "      <td>60000</td>\n",
       "    </tr>\n",
       "    <tr>\n",
       "      <th>2</th>\n",
       "      <td>45</td>\n",
       "      <td>75000</td>\n",
       "    </tr>\n",
       "    <tr>\n",
       "      <th>3</th>\n",
       "      <td>28</td>\n",
       "      <td>40000</td>\n",
       "    </tr>\n",
       "  </tbody>\n",
       "</table>\n",
       "</div>"
      ],
      "text/plain": [
       "   age  salary\n",
       "0   25   50000\n",
       "1   32   60000\n",
       "2   45   75000\n",
       "3   28   40000"
      ]
     },
     "execution_count": 96,
     "metadata": {},
     "output_type": "execute_result"
    }
   ],
   "source": [
    "df[['age','salary']]"
   ]
  },
  {
   "cell_type": "code",
   "execution_count": 97,
   "metadata": {},
   "outputs": [
    {
     "name": "stdout",
     "output_type": "stream",
     "text": [
      "      name  age  salary  new_salary\n",
      "0    Alice   25   50000       50050\n",
      "1      Bob   32   60000       60064\n",
      "2  Charlie   45   75000       75090\n",
      "3    David   28   40000       40056\n"
     ]
    }
   ],
   "source": [
    "df['new_salary'] = df[['age','salary']].apply(calculate_new_salary,axis=1)\n",
    "print(df)"
   ]
  },
  {
   "cell_type": "markdown",
   "metadata": {},
   "source": [
    "**Q6. Which of the following is mutable in nature Series, DataFrame, Panel?**"
   ]
  },
  {
   "cell_type": "markdown",
   "metadata": {},
   "source": [
    "In Pandas, a Panel is a three-dimensional data structure that is designed to handle data with three or more dimensions. It can be thought of as a container for multiple DataFrames, where each DataFrame represents a two-dimensional slice of data within the Panel.\n",
    "\n",
    "In Pandas, both Series and DataFrame are mutable in nature, while Panel is considered deprecated since version 0.25.0 and has been replaced by the more flexible MultiIndex and other data structures."
   ]
  },
  {
   "cell_type": "markdown",
   "metadata": {},
   "source": [
    "**Q7. Create a DataFrame using multiple Series. Explain with an example.**"
   ]
  },
  {
   "cell_type": "code",
   "execution_count": 77,
   "metadata": {},
   "outputs": [],
   "source": [
    "name=pd.Series(['Alice', 'Bob', 'Charlie', 'David'])\n",
    "age=pd.Series([25, 32, 45, 28])\n",
    "salary=pd.Series([50000, 60000, 75000, 40000])\n",
    "\n",
    "data={'name':name,'age':age,'salary':salary}"
   ]
  },
  {
   "cell_type": "code",
   "execution_count": 79,
   "metadata": {},
   "outputs": [
    {
     "name": "stdout",
     "output_type": "stream",
     "text": [
      "      name  age  salary\n",
      "0    Alice   25   50000\n",
      "1      Bob   32   60000\n",
      "2  Charlie   45   75000\n",
      "3    David   28   40000\n"
     ]
    }
   ],
   "source": [
    "df=pd.DataFrame(data=data)\n",
    "print(df)"
   ]
  },
  {
   "cell_type": "code",
   "execution_count": null,
   "metadata": {},
   "outputs": [],
   "source": []
  }
 ],
 "metadata": {
  "kernelspec": {
   "display_name": "Python 3",
   "language": "python",
   "name": "python3"
  },
  "language_info": {
   "codemirror_mode": {
    "name": "ipython",
    "version": 3
   },
   "file_extension": ".py",
   "mimetype": "text/x-python",
   "name": "python",
   "nbconvert_exporter": "python",
   "pygments_lexer": "ipython3",
   "version": "3.6.5"
  }
 },
 "nbformat": 4,
 "nbformat_minor": 2
}
